{
 "cells": [
  {
   "cell_type": "code",
   "execution_count": 1,
   "metadata": {},
   "outputs": [],
   "source": [
    "#import necessary libraries \n",
    "import pandas as pd\n",
    "import numpy as np\n",
    "import cv2\n",
    "import matplotlib.pyplot as plt\n",
    "import torch\n",
    "from torch.utils.data import random_split\n",
    "from torch.utils.data import DataLoader,Dataset\n",
    "import torch.nn.functional as F\n",
    "from torch.utils.tensorboard import SummaryWriter\n",
    "import os"
   ]
  },
  {
   "cell_type": "code",
   "execution_count": 2,
   "metadata": {},
   "outputs": [],
   "source": [
    "#getting the path to the folder \n",
    "dir=os.getcwd()"
   ]
  },
  {
   "cell_type": "code",
   "execution_count": 3,
   "metadata": {},
   "outputs": [],
   "source": [
    "#paths to data\n",
    "mercury_albedo_top=dir+\"/DATA/Data_Mercury/mercury-albedo-top-half.png.csv\"\n",
    "mercury_albedo_bottom=dir+\"/DATA/Data_Mercury/mercury-albedo-resized-bottom-half.png.csv\"\n",
    "alsi_map=dir+\"/DATA/Data_Mercury/alsimap_smooth_032015.png.csv\"\n",
    "casi_map=dir+\"/DATA/Data_Mercury/casimap_smooth_032015.png.csv\"\n",
    "fesi_map=dir+\"/DATA/Data_Mercury/fesimap_smooth_032015.png.csv\"\n",
    "mgsi_map=dir+\"/DATA/Data_Mercury/mgsimap_smooth_032015.png.csv\"\n",
    "ssi_map=dir+\"/DATA/Data_Mercury/ssimap_smooth_032015.png.csv\"\n"
   ]
  },
  {
   "cell_type": "code",
   "execution_count": 16,
   "metadata": {},
   "outputs": [
    {
     "data": {
      "image/png": "[encoded data removed]",
      "text/plain": [
       "<Figure size 432x288 with 1 Axes>"
      ]
     },
     "metadata": {
      "needs_background": "light"
     },
     "output_type": "display_data"
    }
   ],
   "source": [
    "img=np.array(pd.read_csv(ssi_map))\n",
    "plt.hist(img.flatten(),bins=100)\n",
    "plt.show()"
   ]
  },
  {
   "cell_type": "code",
   "execution_count": 4,
   "metadata": {},
   "outputs": [],
   "source": [
    "#custom dataset\n",
    "class dataset(Dataset):\n",
    "  def __init__(self,path_1,path_2,path_3,path_4,path_5,path_6):\n",
    "    self.path_1=path_1\n",
    "    self.path_2=path_2\n",
    "    self.path_3=path_3\n",
    "    self.path_4=path_4\n",
    "    self.path_5=path_5\n",
    "    self.path_6=path_6\n",
    "    #converting the data to tensors\n",
    "    self.X_1=torch.FloatTensor(np.array(pd.read_csv(path_1)))\n",
    "    self.X_2=torch.FloatTensor(np.array(pd.read_csv(path_2)))\n",
    "    self.X_3=torch.FloatTensor(np.array(pd.read_csv(path_3)))\n",
    "    self.X_4=torch.FloatTensor(np.array(pd.read_csv(path_4)))\n",
    "    self.X_5=torch.FloatTensor(np.array(pd.read_csv(path_5)))\n",
    "    self.X_6=torch.FloatTensor(np.array(pd.read_csv(path_6)))\n",
    "    #normalizing the data\n",
    "    self.X_1=(self.X_1.flatten()-torch.mean(self.X_1.flatten()))/torch.std(self.X_1.flatten())\n",
    "    self.X_2=(self.X_2.flatten()-torch.mean(self.X_2.flatten()))/torch.std(self.X_2.flatten())\n",
    "    self.X_3=(self.X_3.flatten()-torch.mean(self.X_3.flatten()))/torch.std(self.X_3.flatten())\n",
    "    self.X_4=(self.X_4.flatten()-torch.mean(self.X_4.flatten()))/torch.std(self.X_4.flatten())\n",
    "    self.X_5=(self.X_5.flatten()-torch.mean(self.X_5.flatten()))/torch.std(self.X_5.flatten())\n",
    "    self.X_6=self.X_6.flatten()\n",
    "    self.Y=torch.stack((self.X_1,self.X_2,self.X_3,self.X_4,self.X_5),1)  \n",
    "    self.X=self.X_6\n",
    "  \n",
    "  def __len__(self):\n",
    "    self.filelength=len(self.Y)\n",
    "    return self.filelength\n",
    "\n",
    "  def __getitem__(self,idx):\n",
    "    return self.X[idx],self.Y[idx]"
   ]
  },
  {
   "cell_type": "code",
   "execution_count": null,
   "metadata": {},
   "outputs": [],
   "source": [
    "class dataset_nearby_pixel(Dataset):\n",
    "    def __init__(self,path_1,path_2,path_3,path_4,path_5,mode):\n",
    "        self.path_1=path_1\n",
    "        self.path_2=path_2\n",
    "        self.path_3=path_3\n",
    "        self.path_4=path_4\n",
    "        self.path_5=path_5\n",
    "        self.mode=mode\n",
    "        #converting the data to ndarray\n",
    "        self.X_1=np.array(pd.read_csv(path_1))\n",
    "        self.X_2=np.array(pd.read_csv(path_2))\n",
    "        self.X_3=np.array(pd.read_csv(path_3))\n",
    "        self.X_4=np.array(pd.read_csv(path_4))\n",
    "        self.X_5=cv2.GaussianBlur(np.array(pd.read_csv(path_5)),ksize=(0,0),sigmaX=9)\n",
    "        self.X=[]\n",
    "        self.Y=[]\n",
    "        n,m=np.shape(self.X_5)[0],np.shape(self.X_5)[1]\n",
    "        for i in range(1,n-1):\n",
    "            for j in range(1,m-1):\n",
    "                nearby=[]\n",
    "                for chem in [self.X_1,self.X_2,self.X_3,self.X_4]:\n",
    "                    for a in [-1,0,1]:\n",
    "                        for b in [-1,0,1]:\n",
    "                            nearby.append(chem[i+a][j+b])\n",
    "                self.X.append(nearby)\n",
    "                self.Y.append([self.X_5[i][j]])\n",
    "        l=len(self.Y)//2\n",
    "        if mode == \"Train\" or \"train\":\n",
    "            self.X=np.array(self.X)[:l]\n",
    "            self.Y=np.array(self.Y)[:l]\n",
    "        elif mode== \"Test\" or \"test\":\n",
    "            self.X=np.array(self.X)[l:]\n",
    "            self.Y=np.array(self.Y)[l:]\n",
    "    def __len__(self):\n",
    "        self.filelength=np.shape(self.Y)[0]\n",
    "        return self.filelength\n",
    "\n",
    "    def __getitem__(self,idx):\n",
    "        return torch.from_numpy(self.X[idx]),torch.from_numpy(self.Y[idx])"
   ]
  },
  {
   "cell_type": "code",
   "execution_count": null,
   "metadata": {},
   "outputs": [],
   "source": []
  }
 ],
 "metadata": {
  "interpreter": {
   "hash": "6f9ebc0819e6879c9252ac39d1ed70d90cf78c6e7bbaabf45459c0f34b6327c2"
  },
  "kernelspec": {
   "display_name": "Python 3.9.5 ('base')",
   "language": "python",
   "name": "python3"
  },
  "language_info": {
   "codemirror_mode": {
    "name": "ipython",
    "version": 3
   },
   "file_extension": ".py",
   "mimetype": "text/x-python",
   "name": "python",
   "nbconvert_exporter": "python",
   "pygments_lexer": "ipython3",
   "version": "3.9.7"
  },
  "orig_nbformat": 4
 },
 "nbformat": 4,
 "nbformat_minor": 2
}
