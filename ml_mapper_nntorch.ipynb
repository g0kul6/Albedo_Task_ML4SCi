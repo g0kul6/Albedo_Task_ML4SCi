{
 "cells": [
  {
   "cell_type": "markdown",
   "metadata": {},
   "source": [
    "# MLMAPPER USING NEURAL NETWORK"
   ]
  },
  {
   "cell_type": "code",
   "execution_count": 29,
   "metadata": {},
   "outputs": [],
   "source": [
    "import pandas as pd\n",
    "import numpy as np\n",
    "import matplotlib.pyplot as plt\n",
    "import torch\n",
    "from torch.utils.data import random_split\n",
    "from torch.utils.data import DataLoader,Dataset\n",
    "import torch.nn.functional as F\n",
    "from torch.utils.tensorboard import SummaryWriter"
   ]
  },
  {
   "cell_type": "markdown",
   "metadata": {},
   "source": [
    "### DATA PATH"
   ]
  },
  {
   "cell_type": "code",
   "execution_count": 40,
   "metadata": {},
   "outputs": [],
   "source": [
    "#paths to data \n",
    "albedo=\"/home/gokul/g0kul6/ml4sci/Data_Albedo/Albedo_Map.csv\"\n",
    "LPFe_Map=\"/home/gokul/g0kul6/ml4sci/Data_Albedo/LPFe_Map.csv\"\n",
    "LPK_Map=\"/home/gokul/g0kul6/ml4sci/Data_Albedo/LPK_Map.csv\"\n",
    "LPTh_Map=\"/home/gokul/g0kul6/ml4sci/Data_Albedo/LPTh_Map.csv\"\n",
    "LPTi_Map=\"/home/gokul/g0kul6/ml4sci/Data_Albedo/LPTi_Map.csv\""
   ]
  },
  {
   "cell_type": "markdown",
   "metadata": {},
   "source": [
    "### CUSTOM DATASET TO GET INPUT,GT"
   ]
  },
  {
   "cell_type": "code",
   "execution_count": 41,
   "metadata": {},
   "outputs": [],
   "source": [
    "#custom dataset\n",
    "class dataset(Dataset):\n",
    "  def __init__(self,path_1,path_2,path_3,path_4,path_5):\n",
    "    self.path_1=path_1\n",
    "    self.path_2=path_2\n",
    "    self.path_3=path_3\n",
    "    self.path_4=path_4\n",
    "    self.path_5=path_5\n",
    "    self.X_1=torch.FloatTensor(np.array(pd.read_csv(path_1)))\n",
    "    self.X_2=torch.FloatTensor(np.array(pd.read_csv(path_2)))\n",
    "    self.X_3=torch.FloatTensor(np.array(pd.read_csv(path_3)))\n",
    "    self.X_4=torch.FloatTensor(np.array(pd.read_csv(path_4)))\n",
    "    self.X_5=torch.FloatTensor(np.array(pd.read_csv(path_5)))\n",
    "    l=int(np.shape(self.X_5)[1]/2)\n",
    "    self.X_1=(self.X_1[0:l].flatten()-torch.mean(self.X_1[0:l].flatten()))/torch.std(self.X_1[0:l].flatten())\n",
    "    self.X_2=(self.X_2[0:l].flatten()-torch.mean(self.X_2[0:l].flatten()))/torch.std(self.X_2[0:l].flatten())\n",
    "    self.X_3=(self.X_3[0:l].flatten()-torch.mean(self.X_3[0:l].flatten()))/torch.std(self.X_3[0:l].flatten())\n",
    "    self.X_4=(self.X_4[0:l].flatten()-torch.mean(self.X_4[0:l].flatten()))/torch.std(self.X_4[0:l].flatten())\n",
    "    self.X_5=self.X_5[0:l].flatten()\n",
    "    self.X=torch.stack((self.X_1,self.X_2,self.X_3,self.X_4),1)  \n",
    "    self.Y=self.X_5\n",
    "  \n",
    "  def __len__(self):\n",
    "    self.filelength=len(self.Y)\n",
    "    return self.filelength\n",
    "\n",
    "  def __getitem__(self,idx):\n",
    "    return self.X[idx],self.Y[idx]"
   ]
  },
  {
   "cell_type": "markdown",
   "metadata": {},
   "source": [
    "### NEURAL NETWORK MODEL"
   ]
  },
  {
   "cell_type": "code",
   "execution_count": 42,
   "metadata": {},
   "outputs": [],
   "source": [
    "#neural network model\n",
    "class Net(torch.nn.Module):\n",
    "    def __init__(self, n_feature, n_hidden, n_output):\n",
    "        super(Net, self).__init__()\n",
    "        self.hidden1 = torch.nn.Linear(n_feature, n_hidden)\n",
    "        self.hidden2 = torch.nn.Linear(n_hidden,n_hidden)\n",
    "        self.hidden3 = torch.nn.Linear(n_hidden,n_hidden)    \n",
    "        self.predict = torch.nn.Linear(n_hidden, n_output)   \n",
    "        self.dropout = torch.nn.Dropout(p=0.2)\n",
    "\n",
    "    def forward(self, x):\n",
    "        x = self.dropout(F.relu(self.hidden1(x)))\n",
    "        x = self.dropout(F.relu(self.hidden2(x)))\n",
    "        x = self.dropout(F.relu(self.hidden3(x)))      \n",
    "        x = self.predict(x)            \n",
    "        return x\n",
    "\n"
   ]
  },
  {
   "cell_type": "markdown",
   "metadata": {},
   "source": [
    "### TRAIN \n"
   ]
  },
  {
   "cell_type": "code",
   "execution_count": 45,
   "metadata": {},
   "outputs": [],
   "source": [
    "class train():\n",
    "    def __init__(self,batch_size,epochs,lr,train_val_split):\n",
    "        self.batch_size=batch_size\n",
    "        self.epochs=epochs\n",
    "        self.lr=lr\n",
    "        self.train_val_split=train_val_split\n",
    "        self.data=dataset(LPFe_Map,LPK_Map,LPTh_Map,LPTi_Map,albedo)\n",
    "        self.train_data,self.val_data=random_split(self.data,[len(self.data)-int(self.train_val_split*len(self.data)),int(self.train_val_split*len(self.data))],generator=torch.Generator().manual_seed(42))\n",
    "        self.train_loader=DataLoader(self.train_data,batch_size=self.batch_size,shuffle=True)\n",
    "        self.val_loader=DataLoader(self.val_data,batch_size=self.batch_size,shuffle=True)\n",
    "        self.net=Net(n_feature=4, n_hidden=10, n_output=1)  \n",
    "        self.optimizer = torch.optim.Adam(self.net.parameters(), lr=self.lr)\n",
    "        self.loss_func = torch.nn.MSELoss() \n",
    "        self.writer = SummaryWriter()\n",
    "    def trainer(self):\n",
    "        self.net=self.net.train()\n",
    "        self.net=self.net.cuda()\n",
    "        for epoch in range(self.epochs):\n",
    "            for input,gt in self.train_loader:\n",
    "                input = input.cuda()\n",
    "                gt = gt.cuda()\n",
    "                gt=torch.reshape(gt,(len(gt),1))\n",
    "                output = self.net(input)\n",
    "                loss = self.loss_func(output, gt)\n",
    "                self.optimizer.zero_grad()\n",
    "                loss.backward()\n",
    "                self.optimizer.step()\n",
    "            print('Epoch : {},  train loss : {}'.format(epoch+1,loss.item()))\n",
    "            with torch.no_grad():\n",
    "                for input,gt in self.val_loader:\n",
    "                    input=input.cuda()\n",
    "                    gt= gt.cuda()\n",
    "                    gt=torch.reshape(gt,(len(gt),1))\n",
    "                    val_output = self.net(input)\n",
    "                    val_loss = self.loss_func(val_output,gt)\n",
    "            print('Epoch : {},  val_loss : {}'.format(epoch+1,val_loss.item()))\n",
    "        self.writer.add_scalar(\"Loss/train\", loss, epoch)\n",
    "        self.writer.add_scalar(\"Loss/val\", val_loss, epoch)\n",
    "        torch.save(self.net.state_dict(),f\"albedo_{self.epochs}_{self.lr}.pth\")"
   ]
  },
  {
   "cell_type": "code",
   "execution_count": null,
   "metadata": {},
   "outputs": [],
   "source": []
  }
 ],
 "metadata": {
  "interpreter": {
   "hash": "916dbcbb3f70747c44a77c7bcd40155683ae19c65e1c03b4aa3499c5328201f1"
  },
  "kernelspec": {
   "display_name": "Python 3.8.10 64-bit",
   "language": "python",
   "name": "python3"
  },
  "language_info": {
   "codemirror_mode": {
    "name": "ipython",
    "version": 3
   },
   "file_extension": ".py",
   "mimetype": "text/x-python",
   "name": "python",
   "nbconvert_exporter": "python",
   "pygments_lexer": "ipython3",
   "version": "3.9.5"
  },
  "orig_nbformat": 4
 },
 "nbformat": 4,
 "nbformat_minor": 2
}
