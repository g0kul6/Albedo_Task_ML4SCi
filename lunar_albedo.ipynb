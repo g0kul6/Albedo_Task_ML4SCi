{
 "cells": [
  {
   "cell_type": "markdown",
   "metadata": {},
   "source": [
    "# MLMAPPER USING NEURAL NETWORK"
   ]
  },
  {
   "cell_type": "code",
   "execution_count": 114,
   "metadata": {},
   "outputs": [],
   "source": [
    "import pandas as pd\n",
    "import numpy as np\n",
    "import matplotlib.pyplot as plt\n",
    "import torch\n",
    "from torch.utils.data import random_split\n",
    "from torch.utils.data import DataLoader,Dataset\n",
    "import torch.nn.functional as F\n",
    "from torch.utils.tensorboard import SummaryWriter\n",
    "import cv2\n"
   ]
  },
  {
   "cell_type": "markdown",
   "metadata": {},
   "source": [
    "### DATA PATH"
   ]
  },
  {
   "cell_type": "code",
   "execution_count": 115,
   "metadata": {},
   "outputs": [],
   "source": [
    "#paths to data \n",
    "albedo=\"/home/gokul/g0kul6/ml4sci/Data_Albedo/Albedo_Map.csv\"\n",
    "LPFe_Map=\"/home/gokul/g0kul6/ml4sci/Data_Albedo/LPFe_Map.csv\"\n",
    "LPK_Map=\"/home/gokul/g0kul6/ml4sci/Data_Albedo/LPK_Map.csv\"\n",
    "LPTh_Map=\"/home/gokul/g0kul6/ml4sci/Data_Albedo/LPTh_Map.csv\"\n",
    "LPTi_Map=\"/home/gokul/g0kul6/ml4sci/Data_Albedo/LPTi_Map.csv\""
   ]
  },
  {
   "cell_type": "markdown",
   "metadata": {},
   "source": [
    "### CUSTOM DATASET TO GET INPUT,GT"
   ]
  },
  {
   "cell_type": "code",
   "execution_count": 116,
   "metadata": {},
   "outputs": [],
   "source": [
    "#custom dataset\n",
    "class dataset(Dataset):\n",
    "  def __init__(self,path_1,path_2,path_3,path_4,path_5,start_split,end_split):\n",
    "    self.path_1=path_1\n",
    "    self.path_2=path_2\n",
    "    self.path_3=path_3\n",
    "    self.path_4=path_4\n",
    "    self.path_5=path_5\n",
    "    self.start_split=start_split\n",
    "    self.end_split=end_split\n",
    "    self.X_1=torch.FloatTensor(np.array(pd.read_csv(path_1)))\n",
    "    self.X_2=torch.FloatTensor(np.array(pd.read_csv(path_2)))\n",
    "    self.X_3=torch.FloatTensor(np.array(pd.read_csv(path_3)))\n",
    "    self.X_4=torch.FloatTensor(np.array(pd.read_csv(path_4)))\n",
    "    self.X_5=torch.FloatTensor(np.array(pd.read_csv(path_5)))\n",
    "    self.X_1=(self.X_1[:,self.start_split:self.end_split].flatten()-torch.mean(self.X_1[:,self.start_split:self.end_split].flatten()))/torch.std(self.X_1[:,self.start_split:self.end_split].flatten())\n",
    "    self.X_2=(self.X_2[:,self.start_split:self.end_split].flatten()-torch.mean(self.X_2[:,self.start_split:self.end_split].flatten()))/torch.std(self.X_2[:,self.start_split:self.end_split].flatten())\n",
    "    self.X_3=(self.X_3[:,self.start_split:self.end_split].flatten()-torch.mean(self.X_3[:,self.start_split:self.end_split].flatten()))/torch.std(self.X_3[:,self.start_split:self.end_split].flatten())\n",
    "    self.X_4=(self.X_4[:,self.start_split:self.end_split].flatten()-torch.mean(self.X_4[:,self.start_split:self.end_split].flatten()))/torch.std(self.X_4[:,self.start_split:self.end_split].flatten())\n",
    "    self.X_5=self.X_5[:,self.start_split:self.end_split].flatten()\n",
    "    self.X=torch.stack((self.X_1,self.X_2,self.X_3,self.X_4),1)  \n",
    "    self.Y=self.X_5\n",
    "  \n",
    "  def __len__(self):\n",
    "    self.filelength=len(self.Y)\n",
    "    return self.filelength\n",
    "\n",
    "  def __getitem__(self,idx):\n",
    "    return self.X[idx],self.Y[idx]"
   ]
  },
  {
   "cell_type": "markdown",
   "metadata": {},
   "source": [
    "### NEURAL NETWORK MODEL"
   ]
  },
  {
   "cell_type": "code",
   "execution_count": 117,
   "metadata": {},
   "outputs": [],
   "source": [
    "#neural network model\n",
    "class model(torch.nn.Module):\n",
    "    def __init__(self, n_feature, n_hidden, n_output):\n",
    "        super(model, self).__init__()\n",
    "        self.hidden1 = torch.nn.Linear(n_feature, n_hidden)\n",
    "        self.hidden2 = torch.nn.Linear(n_hidden,n_hidden)\n",
    "        self.hidden3 = torch.nn.Linear(n_hidden,n_hidden)    \n",
    "        self.predict = torch.nn.Linear(n_hidden, n_output)   \n",
    "        self.dropout = torch.nn.Dropout(p=0.2)\n",
    "\n",
    "    def forward(self, x):\n",
    "        x = self.dropout(F.relu(self.hidden1(x)))\n",
    "        x = self.dropout(F.relu(self.hidden2(x)))\n",
    "        x = self.dropout(F.relu(self.hidden3(x)))      \n",
    "        x = self.predict(x)            \n",
    "        return x\n",
    "\n"
   ]
  },
  {
   "cell_type": "markdown",
   "metadata": {},
   "source": [
    "### Train Function:"
   ]
  },
  {
   "cell_type": "code",
   "execution_count": 118,
   "metadata": {},
   "outputs": [],
   "source": [
    "class train():\n",
    "    def __init__(self,batch_size,epochs,lr,train_val_split):\n",
    "        self.batch_size=batch_size\n",
    "        self.epochs=epochs\n",
    "        self.lr=lr\n",
    "        self.train_val_split=train_val_split\n",
    "        self.data=dataset(LPFe_Map,LPK_Map,LPTh_Map,LPTi_Map,albedo,0,360)\n",
    "        self.train_data,self.val_data=random_split(self.data,[len(self.data)-int(self.train_val_split*len(self.data)),int(self.train_val_split*len(self.data))],generator=torch.Generator().manual_seed(42))\n",
    "        self.train_loader=DataLoader(self.train_data,batch_size=self.batch_size,shuffle=True)\n",
    "        self.val_loader=DataLoader(self.val_data,batch_size=self.batch_size,shuffle=True)\n",
    "        self.net=model(n_feature=4, n_hidden=10, n_output=1)  \n",
    "        self.optimizer = torch.optim.Adam(self.net.parameters(), lr=self.lr)\n",
    "        #self.scheduler=torch.optim.lr_scheduler.ExponentialLR(self.optimizer,gamma=0.9)\n",
    "        self.loss_func = torch.nn.MSELoss() \n",
    "        self.writer = SummaryWriter()\n",
    "    def trainer(self):\n",
    "        self.net=self.net.train()\n",
    "        self.net=self.net.cuda()\n",
    "        for epoch in range(self.epochs):\n",
    "            for input,gt in self.train_loader:\n",
    "                input = input.cuda()\n",
    "                gt = gt.cuda()\n",
    "                gt=torch.reshape(gt,(len(gt),1))\n",
    "                output = self.net(input)\n",
    "                loss = self.loss_func(output, gt)\n",
    "                self.optimizer.zero_grad()\n",
    "                loss.backward()\n",
    "                self.optimizer.step()\n",
    "            #self.scheduler.step()\n",
    "            print('Epoch : {},  train loss : {}'.format(epoch+1,loss.item()))\n",
    "            with torch.no_grad():\n",
    "                for input,gt in self.val_loader:\n",
    "                    input=input.cuda()\n",
    "                    gt= gt.cuda()\n",
    "                    gt=torch.reshape(gt,(len(gt),1))\n",
    "                    val_output = self.net(input)\n",
    "                    val_loss = self.loss_func(val_output,gt)\n",
    "            print('Epoch : {},  val_loss : {}'.format(epoch+1,val_loss.item()))\n",
    "            self.writer.add_scalar(\"Loss/train\", loss, epoch)\n",
    "            self.writer.add_scalar(\"Loss/val\", val_loss, epoch)\n",
    "        torch.save(self.net.state_dict(),f\"albedo_{self.epochs}_{self.lr}.pth\")\n",
    "train_1=train(batch_size=128,epochs=200,lr=0.00001,train_val_split=0.3)"
   ]
  },
  {
   "cell_type": "markdown",
   "metadata": {},
   "source": [
    "# About the model:\n",
    "#### Model that I am using is a neural network with 3-hidden layers,activation function as RELU and dropout with p=0.2\n",
    "#### Loss function = Mean Squared Error Loss(MSE)\n",
    "#### Optimizer     = Adam \n",
    "#### After a lot of hyper-parameter tuning the model showed convergance and better results for lr=0.00001,batchsize=128,train-validatio=70-30 "
   ]
  },
  {
   "cell_type": "code",
   "execution_count": 164,
   "metadata": {},
   "outputs": [
    {
     "name": "stdout",
     "output_type": "stream",
     "text": [
      "RMSE Loss on right half : 0.026970662753440646\n"
     ]
    },
    {
     "data": {
      "text/plain": [
       "(array([1.000e+00, 1.000e+00, 0.000e+00, 0.000e+00, 0.000e+00, 1.000e+00,\n",
       "        0.000e+00, 1.000e+00, 1.000e+00, 2.000e+00, 0.000e+00, 3.000e+00,\n",
       "        7.000e+00, 6.000e+00, 1.000e+01, 6.000e+00, 1.300e+01, 1.800e+01,\n",
       "        2.900e+01, 3.200e+01, 3.600e+01, 4.800e+01, 7.200e+01, 8.800e+01,\n",
       "        9.300e+01, 1.610e+02, 2.020e+02, 3.040e+02, 3.900e+02, 4.460e+02,\n",
       "        5.560e+02, 7.290e+02, 8.800e+02, 1.126e+03, 1.309e+03, 1.619e+03,\n",
       "        1.950e+03, 2.356e+03, 2.722e+03, 3.239e+03, 3.697e+03, 4.261e+03,\n",
       "        4.659e+03, 5.154e+03, 5.826e+03, 6.298e+03, 6.789e+03, 7.117e+03,\n",
       "        7.307e+03, 7.312e+03, 7.213e+03, 6.975e+03, 6.409e+03, 5.769e+03,\n",
       "        5.003e+03, 4.313e+03, 3.559e+03, 3.000e+03, 2.400e+03, 1.875e+03,\n",
       "        1.521e+03, 1.178e+03, 8.290e+02, 5.840e+02, 4.390e+02, 3.350e+02,\n",
       "        2.450e+02, 1.690e+02, 1.150e+02, 9.500e+01, 7.000e+01, 5.100e+01,\n",
       "        4.100e+01, 3.600e+01, 2.600e+01, 1.900e+01, 1.700e+01, 1.700e+01,\n",
       "        1.000e+01, 1.000e+01, 4.000e+00, 5.000e+00, 6.000e+00, 6.000e+00,\n",
       "        5.000e+00, 3.000e+00, 3.000e+00, 3.000e+00, 1.000e+00, 1.000e+00,\n",
       "        1.000e+00, 0.000e+00, 0.000e+00, 1.000e+00, 0.000e+00, 0.000e+00,\n",
       "        0.000e+00, 0.000e+00, 0.000e+00, 1.000e+00]),\n",
       " array([-0.21495596, -0.21077755, -0.20659915, -0.20242074, -0.19824233,\n",
       "        -0.19406393, -0.18988552, -0.18570712, -0.18152871, -0.1773503 ,\n",
       "        -0.1731719 , -0.16899349, -0.16481509, -0.16063668, -0.15645827,\n",
       "        -0.15227987, -0.14810146, -0.14392306, -0.13974465, -0.13556624,\n",
       "        -0.13138784, -0.12720943, -0.12303103, -0.11885262, -0.11467421,\n",
       "        -0.11049581, -0.1063174 , -0.102139  , -0.09796059, -0.09378218,\n",
       "        -0.08960378, -0.08542537, -0.08124697, -0.07706856, -0.07289015,\n",
       "        -0.06871175, -0.06453334, -0.06035494, -0.05617653, -0.05199812,\n",
       "        -0.04781972, -0.04364131, -0.03946291, -0.0352845 , -0.03110609,\n",
       "        -0.02692769, -0.02274928, -0.01857088, -0.01439247, -0.01021406,\n",
       "        -0.00603566, -0.00185725,  0.00232115,  0.00649956,  0.01067797,\n",
       "         0.01485637,  0.01903478,  0.02321318,  0.02739159,  0.03157   ,\n",
       "         0.0357484 ,  0.03992681,  0.04410521,  0.04828362,  0.05246203,\n",
       "         0.05664043,  0.06081884,  0.06499724,  0.06917565,  0.07335406,\n",
       "         0.07753246,  0.08171087,  0.08588928,  0.09006768,  0.09424609,\n",
       "         0.09842449,  0.1026029 ,  0.10678131,  0.11095971,  0.11513812,\n",
       "         0.11931652,  0.12349493,  0.12767334,  0.13185174,  0.13603015,\n",
       "         0.14020855,  0.14438696,  0.14856537,  0.15274377,  0.15692218,\n",
       "         0.16110058,  0.16527899,  0.1694574 ,  0.1736358 ,  0.17781421,\n",
       "         0.18199261,  0.18617102,  0.19034943,  0.19452783,  0.19870624,\n",
       "         0.20288464]),\n",
       " <BarContainer object of 100 artists>)"
      ]
     },
     "execution_count": 164,
     "metadata": {},
     "output_type": "execute_result"
    },
    {
     "data": {
      "image/png": "[encoded data removed]",
      "text/plain": [
       "<Figure size 432x288 with 1 Axes>"
      ]
     },
     "metadata": {
      "needs_background": "light"
     },
     "output_type": "display_data"
    }
   ],
   "source": [
    "test_data=dataset(LPFe_Map,LPK_Map,LPTh_Map,LPTi_Map,albedo,360,720)\n",
    "test_loader=DataLoader(test_data,batch_size=1)\n",
    "loss_function=torch.nn.MSELoss()\n",
    "net_test=model(4,10,1)\n",
    "net_test=net_test.eval().cuda()\n",
    "net_test.load_state_dict(torch.load(\"/home/gokul/g0kul6/ml4sci/Albedo_Task_ML4SCi/albedo_200_1e-05.pth\"))\n",
    "right_predicted=[]\n",
    "right_truth=np.array(pd.read_csv(albedo))[:,360:720]\n",
    "total_loss=[]\n",
    "for i,l in test_loader:\n",
    "    i=i.cuda()\n",
    "    l=l.cuda()\n",
    "    l=torch.reshape(l,(len(l),1))\n",
    "    output=net_test(i)\n",
    "    loss=loss_function(output,l)\n",
    "    loss=loss.cpu().item()\n",
    "    total_loss.append(np.sqrt(loss))\n",
    "    right_predicted.append(output.cpu().item())\n",
    "print(\"RMSE Loss on right half :\",np.mean(total_loss))\n",
    "right_predicted=np.reshape(right_predicted,(359,360))\n",
    "residual=right_predicted-right_truth\n",
    "plt.hist(residual.flatten(),bins=100)\n"
   ]
  },
  {
   "cell_type": "code",
   "execution_count": null,
   "metadata": {},
   "outputs": [],
   "source": []
  }
 ],
 "metadata": {
  "interpreter": {
   "hash": "916dbcbb3f70747c44a77c7bcd40155683ae19c65e1c03b4aa3499c5328201f1"
  },
  "kernelspec": {
   "display_name": "Python 3.8.10 64-bit",
   "language": "python",
   "name": "python3"
  },
  "language_info": {
   "codemirror_mode": {
    "name": "ipython",
    "version": 3
   },
   "file_extension": ".py",
   "mimetype": "text/x-python",
   "name": "python",
   "nbconvert_exporter": "python",
   "pygments_lexer": "ipython3",
   "version": "3.9.5"
  },
  "orig_nbformat": 4
 },
 "nbformat": 4,
 "nbformat_minor": 2
}
